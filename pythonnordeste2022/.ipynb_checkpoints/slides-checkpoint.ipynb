{
 "cells": [
  {
   "cell_type": "markdown",
   "metadata": {
    "slideshow": {
     "slide_type": "slide"
    }
   },
   "source": [
    "# Como Análise de Dados com Python me ajudou a correr melhor!\n",
    "### Python Nordeste 2022\n",
    "### Marcel Caraciolo  [github.com/corriporai](http://github.com/corriporai)\n",
    "\n",
    "#### 26 de agosto 2022"
   ]
  },
  {
   "cell_type": "markdown",
   "metadata": {
    "slideshow": {
     "slide_type": "slide"
    }
   },
   "source": [
    "- Coordenador de Sistemas de Bioinformática e Laboratorial de Genética Molecular Avançada no Hospital Israelita Albert Einstein\n",
    "- Engenheiro e Mestre em ciência da computação\n",
    "- Interessado em gestão de produtos digitais e data science\n",
    "- Criador do pacote runpandas , tema desta palestra\n",
    "- Montador de legos nas horas vagas e aspirante a maratonista\n",
    "\n",
    "**Curiosidades:**  *Fui um dos organizadores da primeira PythonNordeste em Fortaleza, 2013!*"
   ]
  },
  {
   "cell_type": "markdown",
   "metadata": {
    "slideshow": {
     "slide_type": "subslide"
    }
   },
   "source": [
    "![](https://files.speakerdeck.com/presentations/b673d2b095a101313c82768fd0aa6b5a/slide_58.jpg)\n"
   ]
  },
  {
   "cell_type": "markdown",
   "metadata": {
    "slideshow": {
     "slide_type": "slide"
    }
   },
   "source": [
    "## Corrida de Rua\n",
    "\n",
    "Uma das práticas esportivas mais populares do mundo. Acessível para todos,  pois é de baixo custo, pois na sua totalidade, é apenas necessário um tênis ideal e roupas adequadas.\n",
    "\n",
    "Ela faz parte do conjunto de práticas do atletismo, estando presente também na tríade do Triathlon, junto com a natação e o ciclismo.\n",
    "\n",
    "A corrida de rua é a mais comum entre os corredores, pois permite ser praticado em ruas, avenidas ou locais abertos. Nas distâncias de rua, em competições oficiais ou amadores, variam desde 5km e indo até a de 42km (distância de maratona).\n",
    "\n",
    "É o segundo esporte mais praticado no país, tendo um crescimento maior que 50% nos últimos anos, segundo o [Sebrae](https://sebraeinteligenciasetorial.com.br/produtos/boletins-de-tendencia/tendencias-do-mercado-de-corridas-de-rua/5b5a1605d0a9751800f2af49)."
   ]
  },
  {
   "cell_type": "markdown",
   "metadata": {
    "slideshow": {
     "slide_type": "subslide"
    }
   },
   "source": [
    "![](https://www.treinus.com.br/blog/wp-content/uploads/2016/02/roupa-para-correr.jpg)\n"
   ]
  },
  {
   "cell_type": "markdown",
   "metadata": {
    "slideshow": {
     "slide_type": "slide"
    }
   },
   "source": [
    "## Maratona\n",
    "\n",
    "\n",
    "A maratona é uma das provas de resistência mais famosas. \n",
    "\n",
    "A distância oficial de uma maratona não é de 42 km, mas de 42,195 km.\n",
    "\n",
    "O nome “maratona” vem de uma lenda grega. Conta-se que o soldado ateniense Fidípides correu 42 km para anunciar a vitória dos exército de Atenas contra os persas – e morreu de exaustão na sequência.\n",
    "\n",
    "Nas Olimpíadas, a maratona só entrou como modalidade feminina em 1984. Até então, acreditava-se que as mulheres não tinham capacidade física para provas de resistência. A prova mais longa que as mulheres participavam até este ano era a de 1500 metros. :(\n",
    "\n",
    "O corredor mais rápido em uma maratona oficial, até hoje, é o queniano Eliud Kipchoge, que completou a maratona de Berlim em **2:01:39**. Já a corredora mais rápida é a queniana Brigit Kosgei, que completou a maratona de Chigago em \n",
    "**2:14:04**."
   ]
  },
  {
   "cell_type": "markdown",
   "metadata": {
    "slideshow": {
     "slide_type": "subslide"
    }
   },
   "source": [
    "![](https://hips.hearstapps.com/assets.runnersworld.co.uk/i/16421/kipchoge_celebrates.jpg)"
   ]
  },
  {
   "cell_type": "markdown",
   "metadata": {
    "slideshow": {
     "slide_type": "subslide"
    }
   },
   "source": [
    "![](https://s2.glbimg.com/nh1ZR9doJy-1tBEfeQV_-QzYgWE=/0x0:5296x3606/984x0/smart/filters:strip_icc()/s.glbimg.com/es/ge/f/original/2019/10/13/2019-10-13t153152z_95287637_rc1b9d5293d0_rtrmadp_3_athletics-chicago.jpg)"
   ]
  },
  {
   "cell_type": "markdown",
   "metadata": {},
   "source": [
    "### Um maratonista de elite corre em média 20-21km/h!!!\n",
    "![](https://qph.cf2.quoracdn.net/main-qimg-c04796080478a016a00a8b22a32c117d-pjlq)"
   ]
  },
  {
   "cell_type": "markdown",
   "metadata": {
    "slideshow": {
     "slide_type": "slide"
    }
   },
   "source": [
    "## Uma corrida de rua pode gerar mais dados que você pode imaginar...\n",
    "\n",
    "\n",
    "![](./images/garmin-clock.png)\n"
   ]
  },
  {
   "cell_type": "markdown",
   "metadata": {
    "slideshow": {
     "slide_type": "slide"
    }
   },
   "source": [
    "## Fontes de dados\n",
    "\n",
    "- Relógios com captura de dados (distância, batimento cardíaco, temperatura, tempo percorrido, cadência, pace, etc...)\n",
    "- Marcas como Garmin, Polar, Fitbit, Coros, Samsung, Apple Watch, AmazFit, etc.\n",
    "\n",
    "\n",
    "![](https://i.insider.com/626ff56d86fa90001905fc0f?width=700)"
   ]
  },
  {
   "cell_type": "markdown",
   "metadata": {
    "slideshow": {
     "slide_type": "subslide"
    }
   },
   "source": [
    "## Fontes de dados\n",
    "\n",
    "- Aplicativos para Smartphones IOS e Android\n",
    "\n",
    "\n",
    "![](./images/running-apps.jpg)"
   ]
  },
  {
   "cell_type": "markdown",
   "metadata": {
    "slideshow": {
     "slide_type": "slide"
    }
   },
   "source": [
    "## Como os dados estão estruturados e formatados ?\n",
    "\n",
    "\n",
    "| File Type | Size  (MB) | Licensed Use Only (Proprietary) | Human- Readable | GPS Data | Standardized Biometric Data | Extensible |\n",
    "|-----------|------------|---------------------------------|-----------------|----------|-----------------------------|------------|\n",
    "| .csv      | 0.004      |                                 |   Yes           |          |                             |            |\n",
    "| .fit      | 0.320      |               Yes               |                 |    Yes   |                             |     Yes    |\n",
    "| .gpx      | 2.8        |                                 |       Yes       |    Yes   |                             |     Yes    |\n",
    "| .tcx      | 4.8        |                                 |       Yes       |    Yes   |                             |     Yes    |\n",
    "| .kml      | 5.4        |                                 |       Yes       |    Yes   |                             |     Yes    |"
   ]
  },
  {
   "cell_type": "markdown",
   "metadata": {
    "slideshow": {
     "slide_type": "subslide"
    }
   },
   "source": [
    "### CSV\n",
    "\n",
    "O formato .csv é o formato menor e o mais básico. Geralmente só vai conter informações sumarizadas do treino como tempo percorrido, pace médio, batimento cardiáco médio, distância total percorrida, etc.  Geralmente não conteém informações das coordenadas do GPS da atividade.\n",
    "\n",
    "\n",
    "`Split\",\"Time\",\"Moving Time\",\"Distance\",\"Elevation Gain\",\"Elev Loss\",\"Avg Pace\",\"Avg Moving Paces\",\"Best Pace\",\"Avg Run Cadence\",\"Max Run Cadence\",\"Avg Stride Length\",\"Avg HR\",\"Max HR\",\"Avg Temperature\",\"Calories\"\n",
    "\"1\",\"02:54:17    \",\"02:54:01    \",\"21.94\",\"800\",\"801\",\"00:07:57    \",\"00:07:56    \",\"00:00:00    \",\"81\",\"105\",\"92\",\"--\",\"--\",\"21\",\"113\"\n",
    "\"Summary\",\"02:54:17    \",\"02:54:01    \",\"21.94\",\"800\",\"801\",\"00:07:57    \",\"00:07:56    \",\"00:00:00    \",\"81\",\"105\",\"88\",\"--\",\"--\",\"21\",\"113\"`"
   ]
  },
  {
   "cell_type": "markdown",
   "metadata": {
    "slideshow": {
     "slide_type": "subslide"
    }
   },
   "source": [
    "### FIT (Flexible and Interoperable data Transfer)\n",
    "\n",
    "O formato .fit é um formato proprietário e desenvolvido pela Garmin e não são human-readable. Eles são codificados e precisa de um parser .fit para extração de dados.  Como proprietário você precisa estar de acordo com as licenças da Garmin. Há várias bibliotecas que já decodificam o arquivo .fit. O grande problema dos arquivos .fit é por ser proprietário, eles podem fechar o ecossistema a qualquer momento. O Garmin considera este formato o padrão entre os seus dispositivos.\n",
    "\n",
    "Uma das principais vantagens do arquifo FIT é a quantidade de informações que podem ser codificadas dentro do formato e a compactação do mesmo.\n",
    "\n",
    "\n"
   ]
  },
  {
   "cell_type": "markdown",
   "metadata": {
    "slideshow": {
     "slide_type": "subslide"
    }
   },
   "source": [
    "![](https://miro.medium.com/max/1400/1*f3p9uMgX0q4WPaSkCRom5A.png)"
   ]
  },
  {
   "cell_type": "markdown",
   "metadata": {
    "slideshow": {
     "slide_type": "subslide"
    }
   },
   "source": [
    "![](https://miro.medium.com/max/1400/1*U8qAbP32iKjmi2snOU25Ug.png)"
   ]
  },
  {
   "cell_type": "markdown",
   "metadata": {
    "slideshow": {
     "slide_type": "subslide"
    }
   },
   "source": [
    "### TCX (Training Center XML)\n",
    "\n",
    "TCX é um outro formato escrito em XML desenvolvido pela Garmin. Ele foi criado com o objetico de extender as capacidades do GPX (que era focado em apenas dados de GPS), adicionando novos tipos de dados como frequência de batimento cardiaco, cadencia e outros dados esportivos. Ele é open-source e mantido pela Garmin.\n",
    "\n",
    "\n",
    "![](./images/tcx_example.png)"
   ]
  },
  {
   "cell_type": "markdown",
   "metadata": {
    "slideshow": {
     "slide_type": "subslide"
    }
   },
   "source": [
    "### GPX (GPS Exchange Format)\n",
    "\n",
    "GPX é um dos formatos mais antigos e tradicionais para intercâmbio de dados de GPS.  GPX é um formato via XML e amplamente usado em vários dispositivos e social apps. Embora sua especificação tenha dado início com o foco em GPS track points (coordenadas GPS com timestamps), as *extensions* foram criadas para permitir sua extensão. Atualmente já é possíve ter dados de cadência, batimento cardiaco, temperatura, etc. \n",
    "\n",
    "![](./images/gpx_example.png)"
   ]
  },
  {
   "cell_type": "markdown",
   "metadata": {
    "slideshow": {
     "slide_type": "subslide"
    }
   },
   "source": [
    "### KML (Keyhold Markup Language)\n",
    "\n",
    "KML foi criado para visualização de dados geográficos a partir de um browser específico como o Google Earth. Ele contém informações de timestamp e coordenadas GPS. Ele não é orientado a dados esportivos, portanto sua especificação não detalha como registrar dados biométricos, embora seja tecnicamente possível.\n",
    "\n",
    "O seu uso hoje é mais para visualização das rotas dos percursos em cima de uma interface como o Google Maps/Google Earth. É o menos usado para regisro de métricas esportivas.\n",
    "\n",
    "![](./images/km_example.png)"
   ]
  },
  {
   "cell_type": "markdown",
   "metadata": {
    "slideshow": {
     "slide_type": "slide"
    }
   },
   "source": [
    "## E como os social Apps trabalham ?\n",
    "\n",
    "Além de exportar em um ou mais formatos apresentados acima, vários dos apps possuem APIs públicas (ou não) para desenvolvedores que podem consumir e coletar seu histórico de atividades. \n",
    "\n",
    "- Strava (https://developers.strava.com/)\n",
    "- Nike Run Club (https://github.com/yasoob/nrc-exporter)\n",
    "- RunStatic (https://help.runtastic.com/hc/en-us/articles/360008124939-Export-Account-Data)\n",
    "\n",
    "<img src=\"https://i.ytimg.com/vi/1Z9-cnGZ9ew/maxresdefault.jpg\" alt=\"Drawing\" style=\"width: 800px;\"/>"
   ]
  },
  {
   "cell_type": "markdown",
   "metadata": {
    "slideshow": {
     "slide_type": "slide"
    }
   },
   "source": [
    "## Quais as métricas que podemos extrair destes dados ?\n",
    "\n",
    "![](./images/nike_run.jpg)"
   ]
  },
  {
   "cell_type": "markdown",
   "metadata": {
    "slideshow": {
     "slide_type": "slide"
    }
   },
   "source": [
    "### Vamos falar de algumas!"
   ]
  },
  {
   "cell_type": "markdown",
   "metadata": {
    "slideshow": {
     "slide_type": "slide"
    }
   },
   "source": [
    "### Distância Pecorrida (distance)\n",
    "\n",
    "- Distância pecorrida em metros, km ou milhas do ponto de início até o fim da sua corrida.\n",
    "<div style=\"float: left; width: 60%;\">\n",
    "<img src=\"./images/haversine.png\" alt=\"Drawing\" style=\"width: 600px;\"/>\n",
    "</div>\n",
    "<div style=\"float: right; width: 40%;\">\n",
    "<img src=\"./images/latlong.png\" alt=\"Drawing\" style=\"width: 800px;\">\n",
    "</div>"
   ]
  },
  {
   "cell_type": "markdown",
   "metadata": {
    "slideshow": {
     "slide_type": "slide"
    }
   },
   "source": [
    "### Tempo Pecorrido x Tempo em Movimento  (ellapsed time x moving time)\n",
    "- Tempo total percorrido significa o tempo em horas:minutos:segundos do momento que o atleta iniciou o registro até o seu término. Já o Tempo em Movimento define o tempo em que o atleta de fato estava em movimento. Este tempo é usualmente utilizado para os cálculos do pace e de splits. Cada aplicativo/dispositivo define sua fórmula de determinar um atleta em movimento.\n",
    "<div style=\"float: left; width: 60%;\">\n",
    "<img src=\"./images/average_pace.jpeg\" alt=\"Drawing\" style=\"width: 600px;\"/>\n",
    "</div>\n",
    "<div style=\"float: right; width: 40%;\">\n",
    "<img src=\"./images/auto-pause.png\" alt=\"Drawing\" style=\"width: 800px;\">\n",
    "</div>\n"
   ]
  },
  {
   "cell_type": "markdown",
   "metadata": {
    "slideshow": {
     "slide_type": "slide"
    }
   },
   "source": [
    "###  Velocidade Média x Pace Médio (avg speed x avg pace)\n",
    "- Velocidade é a distância percorrida em um determinado tempo, como por exemplo, número de metros no tempo de 1 segundo (m/s), ou número de kms no tempo de 1 hora (km/h).\n",
    "- Pace é o montante de tempo necessário para cobrir uma distância específica, como por exemplo, números de minutos para cobrir 1km. A métrica de pace é muito utilizada nos planilhas de treinamento para seus objetivos de corrida.\n",
    "\n",
    "`Speed(km/h)  = distance(km) / time(h)     Pace (min/km) = time (min) / distance (km)`\n",
    "\n",
    "<div style=\"float: left; width: 40%;\">\n",
    "\n",
    "<img src=\"./images/average_pace.jpeg\" alt=\"Drawing\" style=\"width: 400px;\">\n",
    "</div>\n",
    "\n",
    "<div style=\"float: right; width: 49%;\">\n",
    "\n",
    "<img src=\"./images/running-pace-calculator.png\" alt=\"Drawing\" style=\"width: 500px;\">\n",
    "</div>\n"
   ]
  },
  {
   "cell_type": "markdown",
   "metadata": {
    "slideshow": {
     "slide_type": "subslide"
    }
   },
   "source": [
    "<center>\n",
    "\n",
    "<img src=\"./images/mypace.png\" alt=\"Drawing\" style=\"width: 400px;\">\n",
    "</center>\n",
    "\n",
    "https://www.omnicalculator.com/sports/pace"
   ]
  },
  {
   "cell_type": "markdown",
   "metadata": {
    "slideshow": {
     "slide_type": "slide"
    }
   },
   "source": [
    "###  Cadência (cad)\n",
    "- Cadência é uma métrica que informa quantos passos você deu em um determinado período, geralmente é mensurado como passos por minuto.\n",
    "\n",
    "<div style=\"float: left; width: 40%;\">\n",
    "\n",
    "<img src=\"./images/cadence2.jpeg\" alt=\"Drawing\" style=\"width: 500px;\">\n",
    "</div>\n",
    "\n",
    "<div style=\"float: right; width: 49%;\">\n",
    "\n",
    "<img src=\"./images/cadence-plot.png\" alt=\"Drawing\" style=\"width: 800px;\">\n",
    "</div>\n",
    "\n",
    "\n",
    "\n"
   ]
  },
  {
   "cell_type": "markdown",
   "metadata": {
    "slideshow": {
     "slide_type": "slide"
    }
   },
   "source": [
    "### Ganho de Elevação e gradiente (ele) (grad)\n",
    "\n",
    "- **Ganho / perda de elevação** : o primeiro valor, positivo, indica o ganho acumulado de elevação desde o começo do caminho. A palavra 'acumulado' significa que todas as elevações são somadas, ou seja, se você subiu 100m, desceu 100m e subiu 150m, o ganho de elevação foi de 250m, e não de 50m. É uma medida que reflete quanto o corredor precisará subir para vencer um circuito, quer seja numa corrida, num treinamento ou num passeio.\n",
    "- **Gradiente**: É  resultado do total de ganho altimétrico dividido pela distância percorrida. Em outras palavras, se você subiu 100 metros em um total de 1km (ou mil metros), então o grau é de 10% (100/1.000). Simples assim.\n",
    "\n",
    "<div style=\"float: left; width: 40%;\">\n",
    "\n",
    "<img src=\"./images/gradient.jpeg\" alt=\"Drawing\" style=\"width: 500px;\"/>\n",
    "</div>\n",
    "\n",
    "<div style=\"float: right; width: 49%;\">\n",
    "\n",
    "<img src=\"./images/elevationgain.png\" alt=\"Drawing\" style=\"width: 300px;\"/>\n",
    "</div>\n",
    "\n",
    "\n",
    "\n",
    "\n",
    "\n",
    "\n"
   ]
  },
  {
   "cell_type": "markdown",
   "metadata": {
    "slideshow": {
     "slide_type": "subslide"
    }
   },
   "source": [
    "<img src=\"./images/altimetria-21k.jpeg\" alt=\"Drawing\" style=\"width: 700px;\"/>\n"
   ]
  },
  {
   "cell_type": "markdown",
   "metadata": {
    "slideshow": {
     "slide_type": "slide"
    }
   },
   "source": [
    "### Frequência Cardíaca (HR)\n",
    "\n",
    "A frequência cardíaca é uma métrica nas corridas que define a quantidade de batimentos cardiácos em um determinado período. Geralmente é definido por batimentos por minuto (bpm). Ela é uma ferramenta útil se você quiser saber mais sobre seu desempenho esportivo. Ao treinar medindo a frequência cardíaca, você pode monitorar e controlar a intensidade de seus treinos.\n",
    "\n",
    "<div style=\"float: left; width: 40%;\">\n",
    "\n",
    "<img src=\"./images/heart-rate.png\" alt=\"Drawing\" style=\"width: 600px;\"/>\n",
    "</div>\n",
    "\n",
    "<div style=\"float: right; width: 49%;\">\n",
    "\n",
    "<img src=\"./images/hr-watch.png\" alt=\"Drawing\" style=\"width: 400px;\"/>\n",
    "</div>\n",
    "\n"
   ]
  },
  {
   "cell_type": "markdown",
   "metadata": {
    "slideshow": {
     "slide_type": "slide"
    }
   },
   "source": [
    "### E muito mais métricas!\n",
    "\n",
    "<div></div>\n",
    "\n",
    "\n",
    "<center>\n",
    "<img src=\"./images/wordcloud.png\" alt=\"Drawing\" style=\"width: 600px;\"/>\n",
    "</center>"
   ]
  },
  {
   "cell_type": "markdown",
   "metadata": {
    "slideshow": {
     "slide_type": "slide"
    }
   },
   "source": [
    "## Quais são as alternativas para capturar , extrair e analisar estes dados ?\n",
    "\n",
    "- Soluções artesanais usando Python, R, Scala, Rust, etc.\n",
    "- Algumas libs disponíveis como [SweatPy](https://github.com/GoldenCheetah/sweatpy) ou [TrackeR](https://cran.r-project.org/web/packages/trackeR/vignettes/trackeR.pdf)\n",
    "- Bibliotecas especializadas em extrair do Strava ou ler arquivos GPX, TCX, etc."
   ]
  },
  {
   "cell_type": "markdown",
   "metadata": {
    "slideshow": {
     "slide_type": "slide"
    }
   },
   "source": [
    "## O que vamos apresentar ?\n",
    "\n",
    "\n",
    "<center>\n",
    "<img src=\"./images/runpandas_03.png\" alt=\"Drawing\" style=\"width: 400px;\"/>\n",
    "</center>"
   ]
  },
  {
   "cell_type": "markdown",
   "metadata": {
    "slideshow": {
     "slide_type": "slide"
    }
   },
   "source": [
    "## Runpandas\n",
    "\n",
    "\n",
    "<div style=\"float: left; width: 49%;\">\n",
    "\n",
    "- Biblioteca baseada em Python e Pandas para análise de dados de atividades de corrida.\n",
    "\n",
    "- Construído em meados de 2021. \n",
    "\n",
    "- Versão 0.5\n",
    "\n",
    "- Open-Source e Licença MIT. \n",
    "\n",
    "- Diretamente de Pernambuco, Brasil para o mundo.\n",
    "\n",
    "- https://www.runpandas.run/en/latest/\n",
    "    \n",
    "</div><div style=\"float: right; width: 49%;\">\n",
    "\n",
    " ![\"Image\"](images/runpandas_11.png) \n",
    "\n",
    "</div>"
   ]
  },
  {
   "cell_type": "markdown",
   "metadata": {
    "slideshow": {
     "slide_type": "slide"
    }
   },
   "source": [
    "### Runpandas Basics"
   ]
  },
  {
   "cell_type": "code",
   "execution_count": 3,
   "metadata": {
    "slideshow": {
     "slide_type": "fragment"
    }
   },
   "outputs": [],
   "source": [
    "# !pip install runpandas\n",
    "import runpandas as rpd"
   ]
  },
  {
   "cell_type": "code",
   "execution_count": 6,
   "metadata": {
    "slideshow": {
     "slide_type": "fragment"
    }
   },
   "outputs": [],
   "source": [
    "from IPython.display import HTML\n",
    "import IPython.core.display as di\n",
    "di.display_html('<script src=\"https://gist.github.com/marcelcaraciolo/29c30fa2b46a9b86dcad5f01b345427c.js\"></script>')"
   ]
  },
  {
   "cell_type": "code",
   "execution_count": 2,
   "metadata": {
    "slideshow": {
     "slide_type": "fragment"
    }
   },
   "outputs": [
    {
     "ename": "OSError",
     "evalue": "./sample.tcx does not exist",
     "output_type": "error",
     "traceback": [
      "\u001b[0;31m---------------------------------------------------------------------------\u001b[0m",
      "\u001b[0;31mOSError\u001b[0m                                   Traceback (most recent call last)",
      "\u001b[1;32m/Users/marcelcaraciolo/Projects/corriporai/presentations/pythonnordeste2022/slides.ipynb Cell 38'\u001b[0m in \u001b[0;36m<cell line: 3>\u001b[0;34m()\u001b[0m\n\u001b[1;32m      <a href='vscode-notebook-cell:/Users/marcelcaraciolo/Projects/corriporai/presentations/pythonnordeste2022/slides.ipynb#ch0000038?line=0'>1</a>\u001b[0m \u001b[39m# !pip install runpandas\u001b[39;00m\n\u001b[1;32m      <a href='vscode-notebook-cell:/Users/marcelcaraciolo/Projects/corriporai/presentations/pythonnordeste2022/slides.ipynb#ch0000038?line=1'>2</a>\u001b[0m \u001b[39mimport\u001b[39;00m \u001b[39mrunpandas\u001b[39;00m \u001b[39mas\u001b[39;00m \u001b[39mrpd\u001b[39;00m\n\u001b[0;32m----> <a href='vscode-notebook-cell:/Users/marcelcaraciolo/Projects/corriporai/presentations/pythonnordeste2022/slides.ipynb#ch0000038?line=2'>3</a>\u001b[0m activity \u001b[39m=\u001b[39m rpd\u001b[39m.\u001b[39;49mread_file(\u001b[39m'\u001b[39;49m\u001b[39m./sample.tcx\u001b[39;49m\u001b[39m'\u001b[39;49m)\n",
      "File \u001b[0;32m/opt/miniconda3/envs/runpandas_ppt/lib/python3.8/site-packages/runpandas/reader.py:33\u001b[0m, in \u001b[0;36m_read_file\u001b[0;34m(filename, to_df, **kwargs)\u001b[0m\n\u001b[1;32m     <a href='file:///opt/miniconda3/envs/runpandas_ppt/lib/python3.8/site-packages/runpandas/reader.py?line=13'>14</a>\u001b[0m \u001b[39m\"\"\"\u001b[39;00m\n\u001b[1;32m     <a href='file:///opt/miniconda3/envs/runpandas_ppt/lib/python3.8/site-packages/runpandas/reader.py?line=14'>15</a>\u001b[0m \u001b[39mParameters\u001b[39;00m\n\u001b[1;32m     <a href='file:///opt/miniconda3/envs/runpandas_ppt/lib/python3.8/site-packages/runpandas/reader.py?line=15'>16</a>\u001b[0m \u001b[39m----------\u001b[39;00m\n\u001b[0;32m   (...)\u001b[0m\n\u001b[1;32m     <a href='file:///opt/miniconda3/envs/runpandas_ppt/lib/python3.8/site-packages/runpandas/reader.py?line=28'>29</a>\u001b[0m \n\u001b[1;32m     <a href='file:///opt/miniconda3/envs/runpandas_ppt/lib/python3.8/site-packages/runpandas/reader.py?line=29'>30</a>\u001b[0m \u001b[39m\"\"\"\u001b[39;00m\n\u001b[1;32m     <a href='file:///opt/miniconda3/envs/runpandas_ppt/lib/python3.8/site-packages/runpandas/reader.py?line=31'>32</a>\u001b[0m \u001b[39mif\u001b[39;00m \u001b[39mnot\u001b[39;00m utils\u001b[39m.\u001b[39mfile_exists(filename):\n\u001b[0;32m---> <a href='file:///opt/miniconda3/envs/runpandas_ppt/lib/python3.8/site-packages/runpandas/reader.py?line=32'>33</a>\u001b[0m     \u001b[39mraise\u001b[39;00m \u001b[39mIOError\u001b[39;00m(\u001b[39m\"\u001b[39m\u001b[39m%s\u001b[39;00m\u001b[39m does not exist\u001b[39m\u001b[39m\"\u001b[39m \u001b[39m%\u001b[39m filename)\n\u001b[1;32m     <a href='file:///opt/miniconda3/envs/runpandas_ppt/lib/python3.8/site-packages/runpandas/reader.py?line=33'>34</a>\u001b[0m \u001b[39mif\u001b[39;00m \u001b[39mnot\u001b[39;00m utils\u001b[39m.\u001b[39mis_valid(filename):\n\u001b[1;32m     <a href='file:///opt/miniconda3/envs/runpandas_ppt/lib/python3.8/site-packages/runpandas/reader.py?line=34'>35</a>\u001b[0m     \u001b[39mraise\u001b[39;00m exceptions\u001b[39m.\u001b[39mInvalidFileError(\n\u001b[1;32m     <a href='file:///opt/miniconda3/envs/runpandas_ppt/lib/python3.8/site-packages/runpandas/reader.py?line=35'>36</a>\u001b[0m         \u001b[39m\"\u001b[39m\u001b[39mFile \u001b[39m\u001b[39m{filename}\u001b[39;00m\u001b[39m with invalid filetype.\u001b[39m\u001b[39m\"\u001b[39m\u001b[39m.\u001b[39mformat(\u001b[39m*\u001b[39m\u001b[39m*\u001b[39m\u001b[39mlocals\u001b[39m())\n\u001b[1;32m     <a href='file:///opt/miniconda3/envs/runpandas_ppt/lib/python3.8/site-packages/runpandas/reader.py?line=36'>37</a>\u001b[0m     )\n",
      "\u001b[0;31mOSError\u001b[0m: ./sample.tcx does not exist"
     ]
    }
   ],
   "source": [
    "import runpandas as rpd\n",
    "activity = rpd.read_file('./sample.tcx')"
   ]
  },
  {
   "cell_type": "markdown",
   "metadata": {
    "slideshow": {
     "slide_type": "slide"
    }
   },
   "source": [
    "# Referências\n",
    "\n",
    "[1] https://blog.concannon.tech/tech-talk/gps-activity-data-file-types/\n",
    "\n",
    "[2] https://medium.com/decathlontechnology/gpx-tcx-fit-how-to-choose-the-best-file-extension-for-sport-activity-transfer-403487337c04\n",
    "\n",
    "[3] https://www.rhoderunner.com/run-club-blog/running-metrics\n",
    "\n",
    "[4] https://www.physigo.org/running-metrics-explained"
   ]
  }
 ],
 "metadata": {
  "celltoolbar": "Slideshow",
  "interpreter": {
   "hash": "201d0dc0d9d68da34c8b9b7563a254f72b693461ec48ffa196fc0723eaacf386"
  },
  "kernelspec": {
   "display_name": "Python 3 (ipykernel)",
   "language": "python",
   "name": "python3"
  },
  "language_info": {
   "codemirror_mode": {
    "name": "ipython",
    "version": 3
   },
   "file_extension": ".py",
   "mimetype": "text/x-python",
   "name": "python",
   "nbconvert_exporter": "python",
   "pygments_lexer": "ipython3",
   "version": "3.8.13"
  }
 },
 "nbformat": 4,
 "nbformat_minor": 2
}
